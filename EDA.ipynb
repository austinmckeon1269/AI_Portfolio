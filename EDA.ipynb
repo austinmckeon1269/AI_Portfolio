{
  "cells": [
    {
      "cell_type": "markdown",
      "metadata": {},
      "source": [
        "# EDA (Placeholder)\n",
        "Run `src/train.py` to generate synthetic data, then load it here for analysis.\n"
      ]
    }
  ],
  "metadata": {
    "kernelspec": {
      "display_name": "Python 3",
      "language": "python",
      "name": "python3"
    }
  },
  "nbformat": 4,
  "nbformat_minor": 5
}